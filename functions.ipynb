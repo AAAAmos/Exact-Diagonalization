{
 "cells": [
  {
   "cell_type": "code",
   "execution_count": 6,
   "id": "922c396f",
   "metadata": {},
   "outputs": [],
   "source": [
    "import matplotlib.pyplot as plt\n",
    "import numpy as np\n",
    "from quspin.basis import spin_basis_general"
   ]
  },
  {
   "cell_type": "code",
   "execution_count": 13,
   "id": "9c3aea45",
   "metadata": {},
   "outputs": [],
   "source": [
    "def build_basis(m, n):\n",
    "\n",
    "  ### compute basis\n",
    "  m_2 = m*2\n",
    "  N = m_2*n\n",
    "  print(\"constructed hexagonal lattice with {0:d} sites.\\n\".format(N))\n",
    "\n",
    "  basis = spin_basis_general(N, S = \"1/2\", pauli = 0)\n",
    "  print(\"Hilbert space size: {0:d}.\\n\".format(basis.Ns))\n",
    "  \n",
    "  # r = []\n",
    "  A, B = [], []\n",
    "  \n",
    "  for i in range(n):\n",
    "    for j in range(m):\n",
    "      A.append([(3*i + 0)/2, 3**0.5*(i/2 + j) ])\n",
    "      B.append([(3*i - 1)/2, 3**0.5*(i/2 + j + 0.5)])\n",
    "  \n",
    "  return basis, np.array(A), np.array(B)"
   ]
  },
  {
   "cell_type": "code",
   "execution_count": 16,
   "id": "4121e43c",
   "metadata": {},
   "outputs": [
    {
     "name": "stdout",
     "output_type": "stream",
     "text": [
      "constructed hexagonal lattice with 18 sites.\n",
      "\n",
      "Hilbert space size: 262144.\n",
      "\n"
     ]
    },
    {
     "data": {
      "image/png": "[encoded data removed]",
      "text/plain": [
       "<Figure size 600x600 with 1 Axes>"
      ]
     },
     "metadata": {},
     "output_type": "display_data"
    }
   ],
   "source": [
    "basis, A, B = build_basis(3, 3)\n",
    "A = A.T\n",
    "B = B.T\n",
    "\n",
    "fig, ax = plt.subplots(figsize=(6, 6))\n",
    "\n",
    "ax.scatter(A[1], A[0], color='blue', label='A sites')\n",
    "ax.scatter(B[1], B[0], color='red', label='B sites')\n",
    "\n",
    "# ax.legend()\n",
    "ax.set_aspect('equal')\n",
    "ax.set_xlabel('y')\n",
    "ax.set_ylabel('x')\n",
    "\n",
    "plt.show()"
   ]
  },
  {
   "cell_type": "code",
   "execution_count": 15,
   "id": "f411e417",
   "metadata": {},
   "outputs": [
    {
     "data": {
      "text/plain": [
       "2"
      ]
     },
     "execution_count": 15,
     "metadata": {},
     "output_type": "execute_result"
    }
   ],
   "source": [
    "10%4"
   ]
  }
 ],
 "metadata": {
  "kernelspec": {
   "display_name": "quspin",
   "language": "python",
   "name": "python3"
  },
  "language_info": {
   "codemirror_mode": {
    "name": "ipython",
    "version": 3
   },
   "file_extension": ".py",
   "mimetype": "text/x-python",
   "name": "python",
   "nbconvert_exporter": "python",
   "pygments_lexer": "ipython3",
   "version": "3.10.18"
  }
 },
 "nbformat": 4,
 "nbformat_minor": 5
}
